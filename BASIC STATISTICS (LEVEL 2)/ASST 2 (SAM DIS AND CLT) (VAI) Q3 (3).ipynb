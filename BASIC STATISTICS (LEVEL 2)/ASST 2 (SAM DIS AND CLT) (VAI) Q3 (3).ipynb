{
 "cells": [
  {
   "cell_type": "code",
   "execution_count": 1,
   "id": "87e31ca7",
   "metadata": {
    "ExecuteTime": {
     "end_time": "2022-11-09T11:09:30.174630Z",
     "start_time": "2022-11-09T11:09:29.442215Z"
    }
   },
   "outputs": [],
   "source": [
    "import numpy as np\n",
    "from scipy import stats\n",
    "from scipy.stats import norm\n"
   ]
  },
  {
   "cell_type": "code",
   "execution_count": null,
   "id": "f3b40364",
   "metadata": {},
   "outputs": [],
   "source": [
    "# n=100, Pop Mean=50, Pop SD=40 As no. of samples is more than 30, we can consider it normal distribution"
   ]
  },
  {
   "cell_type": "code",
   "execution_count": null,
   "id": "07a105b1",
   "metadata": {},
   "outputs": [],
   "source": [
    "# For No investigation P(45\n",
    "# For Investigation 1-P(45\n"
   ]
  },
  {
   "cell_type": "code",
   "execution_count": 2,
   "id": "1800d3a6",
   "metadata": {
    "ExecuteTime": {
     "end_time": "2022-11-09T11:10:57.030559Z",
     "start_time": "2022-11-09T11:10:57.009639Z"
    }
   },
   "outputs": [
    {
     "data": {
      "text/plain": [
       "-1.25"
      ]
     },
     "execution_count": 2,
     "metadata": {},
     "output_type": "execute_result"
    }
   ],
   "source": [
    "# find z-scores at x=45; z=(s_mean-P_mean)/(p_SD/sqrt(n))\n",
    "z=(45-50)/(40/100**0.5)\n",
    "z\n"
   ]
  },
  {
   "cell_type": "code",
   "execution_count": 3,
   "id": "2ea0a6e9",
   "metadata": {
    "ExecuteTime": {
     "end_time": "2022-11-09T11:11:16.896275Z",
     "start_time": "2022-11-09T11:11:16.881717Z"
    }
   },
   "outputs": [
    {
     "data": {
      "text/plain": [
       "1.25"
      ]
     },
     "execution_count": 3,
     "metadata": {},
     "output_type": "execute_result"
    }
   ],
   "source": [
    "# find z-scores at x=55; z=(s_mean-P_mean)/(p_SD/sqrt(n))\n",
    "z=(55-50)/(40/100**0.5)\n",
    "z\n"
   ]
  },
  {
   "cell_type": "code",
   "execution_count": 4,
   "id": "01af977d",
   "metadata": {
    "ExecuteTime": {
     "end_time": "2022-11-09T11:11:34.683526Z",
     "start_time": "2022-11-09T11:11:34.666489Z"
    }
   },
   "outputs": [
    {
     "data": {
      "text/plain": [
       "0.7887004526662893"
      ]
     },
     "execution_count": 4,
     "metadata": {},
     "output_type": "execute_result"
    }
   ],
   "source": [
    "# For No investigation P(45\n",
    "stats.norm.cdf(1.25)-stats.norm.cdf(-1.25)\n"
   ]
  },
  {
   "cell_type": "code",
   "execution_count": 5,
   "id": "c553c918",
   "metadata": {
    "ExecuteTime": {
     "end_time": "2022-11-09T11:11:52.830715Z",
     "start_time": "2022-11-09T11:11:52.807458Z"
    }
   },
   "outputs": [
    {
     "data": {
      "text/plain": [
       "(45.00000495667348, 54.99999504332652)"
      ]
     },
     "execution_count": 5,
     "metadata": {},
     "output_type": "execute_result"
    }
   ],
   "source": [
    "stats.norm.interval(0.7887,loc=50,scale=40/(100**0.5))"
   ]
  },
  {
   "cell_type": "code",
   "execution_count": 7,
   "id": "ea3016b0",
   "metadata": {
    "ExecuteTime": {
     "end_time": "2022-11-09T11:13:03.432908Z",
     "start_time": "2022-11-09T11:13:03.411444Z"
    }
   },
   "outputs": [
    {
     "data": {
      "text/plain": [
       "0.21130000000000004"
      ]
     },
     "execution_count": 7,
     "metadata": {},
     "output_type": "execute_result"
    }
   ],
   "source": [
    "# For Investigation 1-P(45\n",
    "1-0.7887"
   ]
  },
  {
   "cell_type": "code",
   "execution_count": null,
   "id": "a6d3ad86",
   "metadata": {},
   "outputs": [],
   "source": [
    " Answer is D. 21.1%"
   ]
  },
  {
   "cell_type": "code",
   "execution_count": null,
   "id": "73fcd1f0",
   "metadata": {},
   "outputs": [],
   "source": []
  }
 ],
 "metadata": {
  "kernelspec": {
   "display_name": "Python 3 (ipykernel)",
   "language": "python",
   "name": "python3"
  },
  "language_info": {
   "codemirror_mode": {
    "name": "ipython",
    "version": 3
   },
   "file_extension": ".py",
   "mimetype": "text/x-python",
   "name": "python",
   "nbconvert_exporter": "python",
   "pygments_lexer": "ipython3",
   "version": "3.9.12"
  }
 },
 "nbformat": 4,
 "nbformat_minor": 5
}
