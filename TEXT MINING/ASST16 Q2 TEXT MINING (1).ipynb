{
 "cells": [
  {
   "cell_type": "code",
   "execution_count": null,
   "id": "87078483",
   "metadata": {},
   "outputs": [],
   "source": [
    "https://www.amazon.in/dp/B0B7DVC3TL#customerReviews"
   ]
  },
  {
   "cell_type": "code",
   "execution_count": 1,
   "id": "145ae427",
   "metadata": {
    "ExecuteTime": {
     "end_time": "2022-10-07T10:55:03.421442Z",
     "start_time": "2022-10-07T10:54:52.652112Z"
    }
   },
   "outputs": [],
   "source": [
    "import requests # Importing requests to extract content from a url\n",
    "from bs4 import BeautifulSoup as bs # Beautifulsoup is for web scrapping...used to scrap specific content\n",
    "import re # regular expressions\n",
    "import nltk\n",
    "from nltk.corpus import stopwords\n",
    "import matplotlib.pyplot as plt\n",
    "from wordcloud import WordCloud\n",
    "import pandas as pd\n",
    "import string\n",
    "import spacy"
   ]
  },
  {
   "cell_type": "code",
   "execution_count": 17,
   "id": "6884c015",
   "metadata": {
    "ExecuteTime": {
     "end_time": "2022-10-07T11:06:13.704134Z",
     "start_time": "2022-10-07T11:06:13.698151Z"
    }
   },
   "outputs": [],
   "source": [
    "bag_review=[]"
   ]
  },
  {
   "cell_type": "code",
   "execution_count": 19,
   "id": "063981cd",
   "metadata": {
    "ExecuteTime": {
     "end_time": "2022-10-07T11:09:36.485214Z",
     "start_time": "2022-10-07T11:06:51.538460Z"
    }
   },
   "outputs": [],
   "source": [
    "for i in range(1,200):\n",
    "  ip=[]  \n",
    "\n",
    "  url = \"https://www.amazon.in/product-reviews/B0B7DVC3TL/ref=cm_cr_arp_d_show_all?ie=UTF8&reviewerType=all_reviews&pageNumber=1#reviews-filter-bar\"+str(i)\n",
    "  response = requests.get(url)\n",
    "  soup = bs(response.content,\"html.parser\")# creating soup object to iterate over the extracted content \n",
    "  reviews = soup.findAll(\"span\",attrs={\"class\",\"a-size-base review-text review-text-content\"})\n",
    "  # Extracting the content under specific tags  \n",
    "# Extracting the content under specific tags    \n",
    "for i in range(len(reviews)):\n",
    "    ip.append(reviews[i].text)   \n",
    "bag_review=bag_review+ip"
   ]
  },
  {
   "cell_type": "code",
   "execution_count": 20,
   "id": "b58646f8",
   "metadata": {
    "ExecuteTime": {
     "end_time": "2022-10-07T11:09:46.129079Z",
     "start_time": "2022-10-07T11:09:46.112130Z"
    }
   },
   "outputs": [
    {
     "data": {
      "text/html": [
       "<div>\n",
       "<style scoped>\n",
       "    .dataframe tbody tr th:only-of-type {\n",
       "        vertical-align: middle;\n",
       "    }\n",
       "\n",
       "    .dataframe tbody tr th {\n",
       "        vertical-align: top;\n",
       "    }\n",
       "\n",
       "    .dataframe thead th {\n",
       "        text-align: right;\n",
       "    }\n",
       "</style>\n",
       "<table border=\"1\" class=\"dataframe\">\n",
       "  <thead>\n",
       "    <tr style=\"text-align: right;\">\n",
       "      <th></th>\n",
       "      <th>0</th>\n",
       "    </tr>\n",
       "  </thead>\n",
       "  <tbody>\n",
       "    <tr>\n",
       "      <th>0</th>\n",
       "      <td>\\nLess space in the bag and only one compartme...</td>\n",
       "    </tr>\n",
       "    <tr>\n",
       "      <th>1</th>\n",
       "      <td>\\nReally Nice bag for the students, good quali...</td>\n",
       "    </tr>\n",
       "    <tr>\n",
       "      <th>2</th>\n",
       "      <td>\\nNice bag, fabric seems good but not Very Spe...</td>\n",
       "    </tr>\n",
       "    <tr>\n",
       "      <th>3</th>\n",
       "      <td>\\nColor, space, zip everything is ok as per or...</td>\n",
       "    </tr>\n",
       "    <tr>\n",
       "      <th>4</th>\n",
       "      <td>\\nThe quality of bag is good. It has too money...</td>\n",
       "    </tr>\n",
       "    <tr>\n",
       "      <th>5</th>\n",
       "      <td>\\nPerfect for carrying laptop. Extra cushion h...</td>\n",
       "    </tr>\n",
       "    <tr>\n",
       "      <th>6</th>\n",
       "      <td>\\nExcellent product\\n</td>\n",
       "    </tr>\n",
       "    <tr>\n",
       "      <th>7</th>\n",
       "      <td>\\nSatisfied..best at this price..value of mone...</td>\n",
       "    </tr>\n",
       "    <tr>\n",
       "      <th>8</th>\n",
       "      <td>\\nFor a long time I had been finding a bag wit...</td>\n",
       "    </tr>\n",
       "    <tr>\n",
       "      <th>9</th>\n",
       "      <td>\\nWorth buying.nice comfort\\n</td>\n",
       "    </tr>\n",
       "    <tr>\n",
       "      <th>10</th>\n",
       "      <td>\\nLess space in the bag and only one compartme...</td>\n",
       "    </tr>\n",
       "    <tr>\n",
       "      <th>11</th>\n",
       "      <td>\\nReally Nice bag for the students, good quali...</td>\n",
       "    </tr>\n",
       "    <tr>\n",
       "      <th>12</th>\n",
       "      <td>\\nNice bag, fabric seems good but not Very Spe...</td>\n",
       "    </tr>\n",
       "    <tr>\n",
       "      <th>13</th>\n",
       "      <td>\\nColor, space, zip everything is ok as per or...</td>\n",
       "    </tr>\n",
       "    <tr>\n",
       "      <th>14</th>\n",
       "      <td>\\nThe quality of bag is good. It has too money...</td>\n",
       "    </tr>\n",
       "    <tr>\n",
       "      <th>15</th>\n",
       "      <td>\\nPerfect for carrying laptop. Extra cushion h...</td>\n",
       "    </tr>\n",
       "    <tr>\n",
       "      <th>16</th>\n",
       "      <td>\\nExcellent product\\n</td>\n",
       "    </tr>\n",
       "    <tr>\n",
       "      <th>17</th>\n",
       "      <td>\\nSatisfied..best at this price..value of mone...</td>\n",
       "    </tr>\n",
       "    <tr>\n",
       "      <th>18</th>\n",
       "      <td>\\nFor a long time I had been finding a bag wit...</td>\n",
       "    </tr>\n",
       "    <tr>\n",
       "      <th>19</th>\n",
       "      <td>\\nWorth buying.nice comfort\\n</td>\n",
       "    </tr>\n",
       "  </tbody>\n",
       "</table>\n",
       "</div>"
      ],
      "text/plain": [
       "                                                    0\n",
       "0   \\nLess space in the bag and only one compartme...\n",
       "1   \\nReally Nice bag for the students, good quali...\n",
       "2   \\nNice bag, fabric seems good but not Very Spe...\n",
       "3   \\nColor, space, zip everything is ok as per or...\n",
       "4   \\nThe quality of bag is good. It has too money...\n",
       "5   \\nPerfect for carrying laptop. Extra cushion h...\n",
       "6                               \\nExcellent product\\n\n",
       "7   \\nSatisfied..best at this price..value of mone...\n",
       "8   \\nFor a long time I had been finding a bag wit...\n",
       "9                       \\nWorth buying.nice comfort\\n\n",
       "10  \\nLess space in the bag and only one compartme...\n",
       "11  \\nReally Nice bag for the students, good quali...\n",
       "12  \\nNice bag, fabric seems good but not Very Spe...\n",
       "13  \\nColor, space, zip everything is ok as per or...\n",
       "14  \\nThe quality of bag is good. It has too money...\n",
       "15  \\nPerfect for carrying laptop. Extra cushion h...\n",
       "16                              \\nExcellent product\\n\n",
       "17  \\nSatisfied..best at this price..value of mone...\n",
       "18  \\nFor a long time I had been finding a bag wit...\n",
       "19                      \\nWorth buying.nice comfort\\n"
      ]
     },
     "execution_count": 20,
     "metadata": {},
     "output_type": "execute_result"
    }
   ],
   "source": [
    "review=pd.DataFrame(bag_review)\n",
    "review"
   ]
  },
  {
   "cell_type": "code",
   "execution_count": 21,
   "id": "aa07f94e",
   "metadata": {
    "ExecuteTime": {
     "end_time": "2022-10-07T11:10:49.951524Z",
     "start_time": "2022-10-07T11:10:49.921446Z"
    }
   },
   "outputs": [
    {
     "data": {
      "text/html": [
       "<div>\n",
       "<style scoped>\n",
       "    .dataframe tbody tr th:only-of-type {\n",
       "        vertical-align: middle;\n",
       "    }\n",
       "\n",
       "    .dataframe tbody tr th {\n",
       "        vertical-align: top;\n",
       "    }\n",
       "\n",
       "    .dataframe thead th {\n",
       "        text-align: right;\n",
       "    }\n",
       "</style>\n",
       "<table border=\"1\" class=\"dataframe\">\n",
       "  <thead>\n",
       "    <tr style=\"text-align: right;\">\n",
       "      <th></th>\n",
       "      <th>review</th>\n",
       "    </tr>\n",
       "  </thead>\n",
       "  <tbody>\n",
       "    <tr>\n",
       "      <th>0</th>\n",
       "      <td>\\nLess space in the bag and only one compartme...</td>\n",
       "    </tr>\n",
       "    <tr>\n",
       "      <th>1</th>\n",
       "      <td>\\nReally Nice bag for the students, good quali...</td>\n",
       "    </tr>\n",
       "    <tr>\n",
       "      <th>2</th>\n",
       "      <td>\\nNice bag, fabric seems good but not Very Spe...</td>\n",
       "    </tr>\n",
       "    <tr>\n",
       "      <th>3</th>\n",
       "      <td>\\nColor, space, zip everything is ok as per or...</td>\n",
       "    </tr>\n",
       "    <tr>\n",
       "      <th>4</th>\n",
       "      <td>\\nThe quality of bag is good. It has too money...</td>\n",
       "    </tr>\n",
       "    <tr>\n",
       "      <th>5</th>\n",
       "      <td>\\nPerfect for carrying laptop. Extra cushion h...</td>\n",
       "    </tr>\n",
       "    <tr>\n",
       "      <th>6</th>\n",
       "      <td>\\nExcellent product\\n</td>\n",
       "    </tr>\n",
       "    <tr>\n",
       "      <th>7</th>\n",
       "      <td>\\nSatisfied..best at this price..value of mone...</td>\n",
       "    </tr>\n",
       "    <tr>\n",
       "      <th>8</th>\n",
       "      <td>\\nFor a long time I had been finding a bag wit...</td>\n",
       "    </tr>\n",
       "    <tr>\n",
       "      <th>9</th>\n",
       "      <td>\\nWorth buying.nice comfort\\n</td>\n",
       "    </tr>\n",
       "    <tr>\n",
       "      <th>10</th>\n",
       "      <td>\\nLess space in the bag and only one compartme...</td>\n",
       "    </tr>\n",
       "    <tr>\n",
       "      <th>11</th>\n",
       "      <td>\\nReally Nice bag for the students, good quali...</td>\n",
       "    </tr>\n",
       "    <tr>\n",
       "      <th>12</th>\n",
       "      <td>\\nNice bag, fabric seems good but not Very Spe...</td>\n",
       "    </tr>\n",
       "    <tr>\n",
       "      <th>13</th>\n",
       "      <td>\\nColor, space, zip everything is ok as per or...</td>\n",
       "    </tr>\n",
       "    <tr>\n",
       "      <th>14</th>\n",
       "      <td>\\nThe quality of bag is good. It has too money...</td>\n",
       "    </tr>\n",
       "    <tr>\n",
       "      <th>15</th>\n",
       "      <td>\\nPerfect for carrying laptop. Extra cushion h...</td>\n",
       "    </tr>\n",
       "    <tr>\n",
       "      <th>16</th>\n",
       "      <td>\\nExcellent product\\n</td>\n",
       "    </tr>\n",
       "    <tr>\n",
       "      <th>17</th>\n",
       "      <td>\\nSatisfied..best at this price..value of mone...</td>\n",
       "    </tr>\n",
       "    <tr>\n",
       "      <th>18</th>\n",
       "      <td>\\nFor a long time I had been finding a bag wit...</td>\n",
       "    </tr>\n",
       "    <tr>\n",
       "      <th>19</th>\n",
       "      <td>\\nWorth buying.nice comfort\\n</td>\n",
       "    </tr>\n",
       "  </tbody>\n",
       "</table>\n",
       "</div>"
      ],
      "text/plain": [
       "                                               review\n",
       "0   \\nLess space in the bag and only one compartme...\n",
       "1   \\nReally Nice bag for the students, good quali...\n",
       "2   \\nNice bag, fabric seems good but not Very Spe...\n",
       "3   \\nColor, space, zip everything is ok as per or...\n",
       "4   \\nThe quality of bag is good. It has too money...\n",
       "5   \\nPerfect for carrying laptop. Extra cushion h...\n",
       "6                               \\nExcellent product\\n\n",
       "7   \\nSatisfied..best at this price..value of mone...\n",
       "8   \\nFor a long time I had been finding a bag wit...\n",
       "9                       \\nWorth buying.nice comfort\\n\n",
       "10  \\nLess space in the bag and only one compartme...\n",
       "11  \\nReally Nice bag for the students, good quali...\n",
       "12  \\nNice bag, fabric seems good but not Very Spe...\n",
       "13  \\nColor, space, zip everything is ok as per or...\n",
       "14  \\nThe quality of bag is good. It has too money...\n",
       "15  \\nPerfect for carrying laptop. Extra cushion h...\n",
       "16                              \\nExcellent product\\n\n",
       "17  \\nSatisfied..best at this price..value of mone...\n",
       "18  \\nFor a long time I had been finding a bag wit...\n",
       "19                      \\nWorth buying.nice comfort\\n"
      ]
     },
     "execution_count": 21,
     "metadata": {},
     "output_type": "execute_result"
    }
   ],
   "source": [
    "review.columns=['review']\n",
    "review"
   ]
  },
  {
   "cell_type": "code",
   "execution_count": 22,
   "id": "4a4821b4",
   "metadata": {
    "ExecuteTime": {
     "end_time": "2022-10-07T11:11:20.023382Z",
     "start_time": "2022-10-07T11:11:19.883959Z"
    }
   },
   "outputs": [
    {
     "data": {
      "text/plain": [
       "(2477, 2)"
      ]
     },
     "execution_count": 22,
     "metadata": {},
     "output_type": "execute_result"
    }
   ],
   "source": [
    "affin=pd.read_csv('Afinn.csv', sep = ',',encoding='latin-1')\n",
    "affin.shape"
   ]
  },
  {
   "cell_type": "code",
   "execution_count": 24,
   "id": "6b949806",
   "metadata": {
    "ExecuteTime": {
     "end_time": "2022-10-07T11:12:28.991379Z",
     "start_time": "2022-10-07T11:12:28.960019Z"
    }
   },
   "outputs": [
    {
     "data": {
      "text/plain": [
       "['Less space in the bag and only one compartment have more space remain have  less space',\n",
       " 'Really Nice bag for the students, good quality and quality also, worth of money. Thank you Amazon🙏.',\n",
       " 'Nice bag, fabric seems good but not Very Specious, overall to buy not a bad deal',\n",
       " 'Color, space, zip everything is ok as per ordered item description. Quality product and spacious for solo short traveling.',\n",
       " 'The quality of bag is good. It has too money pockets and 1 for laptop sleeve. It also provides rain cover at bottom pocket. Zipper are of good quality but it does not feel premium.Only thing that i didn\\'t like is Straps. They feel wide to me and not long enough to cover my a**. My height is 5\\'10\" and I like to hang my bag as lowest possible. This bag only reaches just below my waist.At this price I think this is good fit.',\n",
       " 'Perfect for carrying laptop. Extra cushion has been provided at bottom. Zipper quality is also awesome. Only problem is rain cover is not completely able protect bag from rain but it OK.',\n",
       " 'Excellent product',\n",
       " 'Satisfied..best at this price..value of money..',\n",
       " 'For a long time I had been finding a bag with laptop sleeve as well as rain cover that had many pockets and could be carried anywhere in a pocket friendly rate. Thanks to Martucci I could find it all in one place and that too during the festive sale I got it at a lesser price. Thank you amazon as well as martucci for bringing my needs to my doorstep.',\n",
       " 'Worth buying.nice comfort',\n",
       " 'Less space in the bag and only one compartment have more space remain have  less space',\n",
       " 'Really Nice bag for the students, good quality and quality also, worth of money. Thank you Amazon🙏.',\n",
       " 'Nice bag, fabric seems good but not Very Specious, overall to buy not a bad deal',\n",
       " 'Color, space, zip everything is ok as per ordered item description. Quality product and spacious for solo short traveling.',\n",
       " 'The quality of bag is good. It has too money pockets and 1 for laptop sleeve. It also provides rain cover at bottom pocket. Zipper are of good quality but it does not feel premium.Only thing that i didn\\'t like is Straps. They feel wide to me and not long enough to cover my a**. My height is 5\\'10\" and I like to hang my bag as lowest possible. This bag only reaches just below my waist.At this price I think this is good fit.',\n",
       " 'Perfect for carrying laptop. Extra cushion has been provided at bottom. Zipper quality is also awesome. Only problem is rain cover is not completely able protect bag from rain but it OK.',\n",
       " 'Excellent product',\n",
       " 'Satisfied..best at this price..value of money..',\n",
       " 'For a long time I had been finding a bag with laptop sleeve as well as rain cover that had many pockets and could be carried anywhere in a pocket friendly rate. Thanks to Martucci I could find it all in one place and that too during the festive sale I got it at a lesser price. Thank you amazon as well as martucci for bringing my needs to my doorstep.',\n",
       " 'Worth buying.nice comfort']"
      ]
     },
     "execution_count": 24,
     "metadata": {},
     "output_type": "execute_result"
    }
   ],
   "source": [
    "data= [review.strip() for review in review.review]#removing blank spaces\n",
    "data= [review for review in data if review]#removing black lines\n",
    "data"
   ]
  },
  {
   "cell_type": "code",
   "execution_count": 26,
   "id": "9d2fc7ff",
   "metadata": {
    "ExecuteTime": {
     "end_time": "2022-10-07T11:13:50.426248Z",
     "start_time": "2022-10-07T11:13:50.295663Z"
    }
   },
   "outputs": [
    {
     "data": {
      "text/plain": [
       "['Less space in the bag and only one compartment have more space remain have  less space Really Nice bag for the students, good quality and quality also, worth of money.',\n",
       " 'Thank you Amazon🙏.',\n",
       " 'Nice bag, fabric seems good but not Very Specious, overall to buy not a bad deal Color, space, zip everything is ok as per ordered item description.',\n",
       " 'Quality product and spacious for solo short traveling.',\n",
       " 'The quality of bag is good.',\n",
       " 'It has too money pockets and 1 for laptop sleeve.',\n",
       " 'It also provides rain cover at bottom pocket.',\n",
       " \"Zipper are of good quality but it does not feel premium.Only thing that i didn't like is Straps.\",\n",
       " 'They feel wide to me and not long enough to cover my a**.',\n",
       " 'My height is 5\\'10\" and I like to hang my bag as lowest possible.',\n",
       " 'This bag only reaches just below my waist.At this price I think this is good fit.',\n",
       " 'Perfect for carrying laptop.',\n",
       " 'Extra cushion has been provided at bottom.',\n",
       " 'Zipper quality is also awesome.',\n",
       " 'Only problem is rain cover is not completely able protect bag from rain but it OK.']"
      ]
     },
     "execution_count": 26,
     "metadata": {},
     "output_type": "execute_result"
    }
   ],
   "source": [
    "#tokenizing\n",
    "from nltk import tokenize\n",
    "sentences = tokenize.sent_tokenize(\" \".join(data))\n",
    "sentences[0:15]"
   ]
  },
  {
   "cell_type": "code",
   "execution_count": 27,
   "id": "6bddc066",
   "metadata": {
    "ExecuteTime": {
     "end_time": "2022-10-07T11:14:01.500987Z",
     "start_time": "2022-10-07T11:14:01.476037Z"
    }
   },
   "outputs": [
    {
     "data": {
      "text/html": [
       "<div>\n",
       "<style scoped>\n",
       "    .dataframe tbody tr th:only-of-type {\n",
       "        vertical-align: middle;\n",
       "    }\n",
       "\n",
       "    .dataframe tbody tr th {\n",
       "        vertical-align: top;\n",
       "    }\n",
       "\n",
       "    .dataframe thead th {\n",
       "        text-align: right;\n",
       "    }\n",
       "</style>\n",
       "<table border=\"1\" class=\"dataframe\">\n",
       "  <thead>\n",
       "    <tr style=\"text-align: right;\">\n",
       "      <th></th>\n",
       "      <th>sentence</th>\n",
       "    </tr>\n",
       "  </thead>\n",
       "  <tbody>\n",
       "    <tr>\n",
       "      <th>0</th>\n",
       "      <td>Less space in the bag and only one compartment...</td>\n",
       "    </tr>\n",
       "    <tr>\n",
       "      <th>1</th>\n",
       "      <td>Thank you Amazon🙏.</td>\n",
       "    </tr>\n",
       "    <tr>\n",
       "      <th>2</th>\n",
       "      <td>Nice bag, fabric seems good but not Very Speci...</td>\n",
       "    </tr>\n",
       "    <tr>\n",
       "      <th>3</th>\n",
       "      <td>Quality product and spacious for solo short tr...</td>\n",
       "    </tr>\n",
       "    <tr>\n",
       "      <th>4</th>\n",
       "      <td>The quality of bag is good.</td>\n",
       "    </tr>\n",
       "    <tr>\n",
       "      <th>5</th>\n",
       "      <td>It has too money pockets and 1 for laptop sleeve.</td>\n",
       "    </tr>\n",
       "    <tr>\n",
       "      <th>6</th>\n",
       "      <td>It also provides rain cover at bottom pocket.</td>\n",
       "    </tr>\n",
       "    <tr>\n",
       "      <th>7</th>\n",
       "      <td>Zipper are of good quality but it does not fee...</td>\n",
       "    </tr>\n",
       "    <tr>\n",
       "      <th>8</th>\n",
       "      <td>They feel wide to me and not long enough to co...</td>\n",
       "    </tr>\n",
       "    <tr>\n",
       "      <th>9</th>\n",
       "      <td>My height is 5'10\" and I like to hang my bag a...</td>\n",
       "    </tr>\n",
       "    <tr>\n",
       "      <th>10</th>\n",
       "      <td>This bag only reaches just below my waist.At t...</td>\n",
       "    </tr>\n",
       "    <tr>\n",
       "      <th>11</th>\n",
       "      <td>Perfect for carrying laptop.</td>\n",
       "    </tr>\n",
       "    <tr>\n",
       "      <th>12</th>\n",
       "      <td>Extra cushion has been provided at bottom.</td>\n",
       "    </tr>\n",
       "    <tr>\n",
       "      <th>13</th>\n",
       "      <td>Zipper quality is also awesome.</td>\n",
       "    </tr>\n",
       "    <tr>\n",
       "      <th>14</th>\n",
       "      <td>Only problem is rain cover is not completely a...</td>\n",
       "    </tr>\n",
       "    <tr>\n",
       "      <th>15</th>\n",
       "      <td>Excellent product Satisfied..best at this pric...</td>\n",
       "    </tr>\n",
       "    <tr>\n",
       "      <th>16</th>\n",
       "      <td>Thanks to Martucci I could find it all in one ...</td>\n",
       "    </tr>\n",
       "    <tr>\n",
       "      <th>17</th>\n",
       "      <td>Thank you amazon as well as martucci for bring...</td>\n",
       "    </tr>\n",
       "    <tr>\n",
       "      <th>18</th>\n",
       "      <td>Worth buying.nice comfort Less space in the ba...</td>\n",
       "    </tr>\n",
       "    <tr>\n",
       "      <th>19</th>\n",
       "      <td>Thank you Amazon🙏.</td>\n",
       "    </tr>\n",
       "  </tbody>\n",
       "</table>\n",
       "</div>"
      ],
      "text/plain": [
       "                                             sentence\n",
       "0   Less space in the bag and only one compartment...\n",
       "1                                  Thank you Amazon🙏.\n",
       "2   Nice bag, fabric seems good but not Very Speci...\n",
       "3   Quality product and spacious for solo short tr...\n",
       "4                         The quality of bag is good.\n",
       "5   It has too money pockets and 1 for laptop sleeve.\n",
       "6       It also provides rain cover at bottom pocket.\n",
       "7   Zipper are of good quality but it does not fee...\n",
       "8   They feel wide to me and not long enough to co...\n",
       "9   My height is 5'10\" and I like to hang my bag a...\n",
       "10  This bag only reaches just below my waist.At t...\n",
       "11                       Perfect for carrying laptop.\n",
       "12         Extra cushion has been provided at bottom.\n",
       "13                    Zipper quality is also awesome.\n",
       "14  Only problem is rain cover is not completely a...\n",
       "15  Excellent product Satisfied..best at this pric...\n",
       "16  Thanks to Martucci I could find it all in one ...\n",
       "17  Thank you amazon as well as martucci for bring...\n",
       "18  Worth buying.nice comfort Less space in the ba...\n",
       "19                                 Thank you Amazon🙏."
      ]
     },
     "execution_count": 27,
     "metadata": {},
     "output_type": "execute_result"
    }
   ],
   "source": [
    "sent_df = pd.DataFrame(sentences, columns=['sentence'])\n",
    "sent_df[0:20]"
   ]
  },
  {
   "cell_type": "code",
   "execution_count": 28,
   "id": "b1fb278a",
   "metadata": {
    "ExecuteTime": {
     "end_time": "2022-10-07T11:14:43.269415Z",
     "start_time": "2022-10-07T11:14:42.875341Z"
    }
   },
   "outputs": [
    {
     "name": "stderr",
     "output_type": "stream",
     "text": [
      "[nltk_data] Downloading package punkt to C:\\Users\\NALLI\n",
      "[nltk_data]     NISHETHA\\AppData\\Roaming\\nltk_data...\n",
      "[nltk_data]   Package punkt is already up-to-date!\n",
      "[nltk_data] Downloading package stopwords to C:\\Users\\NALLI\n",
      "[nltk_data]     NISHETHA\\AppData\\Roaming\\nltk_data...\n",
      "[nltk_data]   Package stopwords is already up-to-date!\n"
     ]
    },
    {
     "data": {
      "text/plain": [
       "True"
      ]
     },
     "execution_count": 28,
     "metadata": {},
     "output_type": "execute_result"
    }
   ],
   "source": [
    "nltk.download('punkt')\n",
    "nltk.download('stopwords')"
   ]
  },
  {
   "cell_type": "code",
   "execution_count": 29,
   "id": "a5db22a6",
   "metadata": {
    "ExecuteTime": {
     "end_time": "2022-10-07T11:15:00.102283Z",
     "start_time": "2022-10-07T11:15:00.075327Z"
    }
   },
   "outputs": [
    {
     "data": {
      "text/plain": [
       "['i', 'me', 'my', 'myself', 'we', 'our', 'ours', 'ourselves', 'you', \"you're\"]"
      ]
     },
     "execution_count": 29,
     "metadata": {},
     "output_type": "execute_result"
    }
   ],
   "source": [
    "my_stopwords = stopwords.words('english')\n",
    "my_stopwords[0:10]"
   ]
  },
  {
   "cell_type": "code",
   "execution_count": 32,
   "id": "3ccf5ef8",
   "metadata": {
    "ExecuteTime": {
     "end_time": "2022-10-07T11:23:06.479908Z",
     "start_time": "2022-10-07T11:23:06.015107Z"
    }
   },
   "outputs": [],
   "source": [
    "affinity_scores = affin.set_index('word')['value'].to_dict() "
   ]
  },
  {
   "cell_type": "code",
   "execution_count": 33,
   "id": "1db7c734",
   "metadata": {
    "ExecuteTime": {
     "end_time": "2022-10-07T11:23:46.918733Z",
     "start_time": "2022-10-07T11:23:46.124160Z"
    }
   },
   "outputs": [],
   "source": [
    "nlp = spacy.load(\"en_core_web_sm\")\n",
    "sentiment_lexicon = affinity_scores\n",
    "\n",
    "def calculate_sentiment(text: str = None):\n",
    "    sent_score = 0\n",
    "    if text:\n",
    "        clean = nlp(text)\n",
    "        for word in clean:\n",
    "            sent_score += sentiment_lexicon.get(word.lemma_, 0)\n",
    "    return sent_score"
   ]
  },
  {
   "cell_type": "code",
   "execution_count": 34,
   "id": "cdd6b590",
   "metadata": {
    "ExecuteTime": {
     "end_time": "2022-10-07T11:24:09.793784Z",
     "start_time": "2022-10-07T11:24:09.765864Z"
    }
   },
   "outputs": [
    {
     "data": {
      "text/plain": [
       "4"
      ]
     },
     "execution_count": 34,
     "metadata": {},
     "output_type": "execute_result"
    }
   ],
   "source": [
    "calculate_sentiment(text = 'amazing')"
   ]
  },
  {
   "cell_type": "code",
   "execution_count": 35,
   "id": "dcd65ea1",
   "metadata": {
    "ExecuteTime": {
     "end_time": "2022-10-07T11:24:23.032907Z",
     "start_time": "2022-10-07T11:24:22.586622Z"
    }
   },
   "outputs": [],
   "source": [
    "sent_df['sentiment_value'] = sent_df['sentence'].apply(calculate_sentiment) "
   ]
  },
  {
   "cell_type": "code",
   "execution_count": 36,
   "id": "c01f364d",
   "metadata": {
    "ExecuteTime": {
     "end_time": "2022-10-07T11:24:31.426354Z",
     "start_time": "2022-10-07T11:24:31.398395Z"
    }
   },
   "outputs": [
    {
     "data": {
      "text/plain": [
       "0    30\n",
       "1     3\n",
       "2    27\n",
       "3     8\n",
       "4     6\n",
       "5    10\n",
       "6     8\n",
       "7    18\n",
       "8    13\n",
       "9    14\n",
       "Name: word_count, dtype: int64"
      ]
     },
     "execution_count": 36,
     "metadata": {},
     "output_type": "execute_result"
    }
   ],
   "source": [
    "# how many words are in the sentence?\n",
    "sent_df['word_count'] = sent_df['sentence'].str.split().apply(len)\n",
    "sent_df['word_count'].head(10) "
   ]
  },
  {
   "cell_type": "code",
   "execution_count": 37,
   "id": "f37a91b9",
   "metadata": {
    "ExecuteTime": {
     "end_time": "2022-10-07T11:24:51.278147Z",
     "start_time": "2022-10-07T11:24:51.219325Z"
    }
   },
   "outputs": [
    {
     "data": {
      "text/html": [
       "<div>\n",
       "<style scoped>\n",
       "    .dataframe tbody tr th:only-of-type {\n",
       "        vertical-align: middle;\n",
       "    }\n",
       "\n",
       "    .dataframe tbody tr th {\n",
       "        vertical-align: top;\n",
       "    }\n",
       "\n",
       "    .dataframe thead th {\n",
       "        text-align: right;\n",
       "    }\n",
       "</style>\n",
       "<table border=\"1\" class=\"dataframe\">\n",
       "  <thead>\n",
       "    <tr style=\"text-align: right;\">\n",
       "      <th></th>\n",
       "      <th>sentence</th>\n",
       "      <th>sentiment_value</th>\n",
       "      <th>word_count</th>\n",
       "    </tr>\n",
       "  </thead>\n",
       "  <tbody>\n",
       "    <tr>\n",
       "      <th>32</th>\n",
       "      <td>Only problem is rain cover is not completely a...</td>\n",
       "      <td>-1</td>\n",
       "      <td>16</td>\n",
       "    </tr>\n",
       "    <tr>\n",
       "      <th>14</th>\n",
       "      <td>Only problem is rain cover is not completely a...</td>\n",
       "      <td>-1</td>\n",
       "      <td>16</td>\n",
       "    </tr>\n",
       "    <tr>\n",
       "      <th>21</th>\n",
       "      <td>Quality product and spacious for solo short tr...</td>\n",
       "      <td>0</td>\n",
       "      <td>8</td>\n",
       "    </tr>\n",
       "    <tr>\n",
       "      <th>24</th>\n",
       "      <td>It also provides rain cover at bottom pocket.</td>\n",
       "      <td>0</td>\n",
       "      <td>8</td>\n",
       "    </tr>\n",
       "    <tr>\n",
       "      <th>26</th>\n",
       "      <td>They feel wide to me and not long enough to co...</td>\n",
       "      <td>0</td>\n",
       "      <td>13</td>\n",
       "    </tr>\n",
       "    <tr>\n",
       "      <th>12</th>\n",
       "      <td>Extra cushion has been provided at bottom.</td>\n",
       "      <td>0</td>\n",
       "      <td>7</td>\n",
       "    </tr>\n",
       "    <tr>\n",
       "      <th>8</th>\n",
       "      <td>They feel wide to me and not long enough to co...</td>\n",
       "      <td>0</td>\n",
       "      <td>13</td>\n",
       "    </tr>\n",
       "    <tr>\n",
       "      <th>23</th>\n",
       "      <td>It has too money pockets and 1 for laptop sleeve.</td>\n",
       "      <td>0</td>\n",
       "      <td>10</td>\n",
       "    </tr>\n",
       "    <tr>\n",
       "      <th>6</th>\n",
       "      <td>It also provides rain cover at bottom pocket.</td>\n",
       "      <td>0</td>\n",
       "      <td>8</td>\n",
       "    </tr>\n",
       "    <tr>\n",
       "      <th>5</th>\n",
       "      <td>It has too money pockets and 1 for laptop sleeve.</td>\n",
       "      <td>0</td>\n",
       "      <td>10</td>\n",
       "    </tr>\n",
       "  </tbody>\n",
       "</table>\n",
       "</div>"
      ],
      "text/plain": [
       "                                             sentence  sentiment_value  \\\n",
       "32  Only problem is rain cover is not completely a...               -1   \n",
       "14  Only problem is rain cover is not completely a...               -1   \n",
       "21  Quality product and spacious for solo short tr...                0   \n",
       "24      It also provides rain cover at bottom pocket.                0   \n",
       "26  They feel wide to me and not long enough to co...                0   \n",
       "12         Extra cushion has been provided at bottom.                0   \n",
       "8   They feel wide to me and not long enough to co...                0   \n",
       "23  It has too money pockets and 1 for laptop sleeve.                0   \n",
       "6       It also provides rain cover at bottom pocket.                0   \n",
       "5   It has too money pockets and 1 for laptop sleeve.                0   \n",
       "\n",
       "    word_count  \n",
       "32          16  \n",
       "14          16  \n",
       "21           8  \n",
       "24           8  \n",
       "26          13  \n",
       "12           7  \n",
       "8           13  \n",
       "23          10  \n",
       "6            8  \n",
       "5           10  "
      ]
     },
     "execution_count": 37,
     "metadata": {},
     "output_type": "execute_result"
    }
   ],
   "source": [
    "sent_df.sort_values(by='sentiment_value').head(10)"
   ]
  },
  {
   "cell_type": "code",
   "execution_count": 38,
   "id": "2a86054c",
   "metadata": {
    "ExecuteTime": {
     "end_time": "2022-10-07T11:25:29.542062Z",
     "start_time": "2022-10-07T11:25:29.424819Z"
    }
   },
   "outputs": [
    {
     "data": {
      "text/plain": [
       "count    37.000000\n",
       "mean      2.810811\n",
       "std       2.904382\n",
       "min      -1.000000\n",
       "25%       0.000000\n",
       "50%       3.000000\n",
       "75%       4.000000\n",
       "max      12.000000\n",
       "Name: sentiment_value, dtype: float64"
      ]
     },
     "execution_count": 38,
     "metadata": {},
     "output_type": "execute_result"
    }
   ],
   "source": [
    "sent_df['sentiment_value'].describe()"
   ]
  },
  {
   "cell_type": "code",
   "execution_count": 40,
   "id": "b46640d8",
   "metadata": {
    "ExecuteTime": {
     "end_time": "2022-10-07T11:26:44.838941Z",
     "start_time": "2022-10-07T11:26:44.820358Z"
    }
   },
   "outputs": [
    {
     "data": {
      "text/html": [
       "<div>\n",
       "<style scoped>\n",
       "    .dataframe tbody tr th:only-of-type {\n",
       "        vertical-align: middle;\n",
       "    }\n",
       "\n",
       "    .dataframe tbody tr th {\n",
       "        vertical-align: top;\n",
       "    }\n",
       "\n",
       "    .dataframe thead th {\n",
       "        text-align: right;\n",
       "    }\n",
       "</style>\n",
       "<table border=\"1\" class=\"dataframe\">\n",
       "  <thead>\n",
       "    <tr style=\"text-align: right;\">\n",
       "      <th></th>\n",
       "      <th>sentence</th>\n",
       "      <th>sentiment_value</th>\n",
       "      <th>word_count</th>\n",
       "    </tr>\n",
       "  </thead>\n",
       "  <tbody>\n",
       "    <tr>\n",
       "      <th>0</th>\n",
       "      <td>Less space in the bag and only one compartment...</td>\n",
       "      <td>8</td>\n",
       "      <td>30</td>\n",
       "    </tr>\n",
       "    <tr>\n",
       "      <th>1</th>\n",
       "      <td>Thank you Amazon🙏.</td>\n",
       "      <td>2</td>\n",
       "      <td>3</td>\n",
       "    </tr>\n",
       "    <tr>\n",
       "      <th>2</th>\n",
       "      <td>Nice bag, fabric seems good but not Very Speci...</td>\n",
       "      <td>3</td>\n",
       "      <td>27</td>\n",
       "    </tr>\n",
       "    <tr>\n",
       "      <th>3</th>\n",
       "      <td>Quality product and spacious for solo short tr...</td>\n",
       "      <td>0</td>\n",
       "      <td>8</td>\n",
       "    </tr>\n",
       "    <tr>\n",
       "      <th>4</th>\n",
       "      <td>The quality of bag is good.</td>\n",
       "      <td>3</td>\n",
       "      <td>6</td>\n",
       "    </tr>\n",
       "  </tbody>\n",
       "</table>\n",
       "</div>"
      ],
      "text/plain": [
       "                                            sentence  sentiment_value  \\\n",
       "0  Less space in the bag and only one compartment...                8   \n",
       "1                                 Thank you Amazon🙏.                2   \n",
       "2  Nice bag, fabric seems good but not Very Speci...                3   \n",
       "3  Quality product and spacious for solo short tr...                0   \n",
       "4                        The quality of bag is good.                3   \n",
       "\n",
       "   word_count  \n",
       "0          30  \n",
       "1           3  \n",
       "2          27  \n",
       "3           8  \n",
       "4           6  "
      ]
     },
     "execution_count": 40,
     "metadata": {},
     "output_type": "execute_result"
    }
   ],
   "source": [
    "# Sentiment score of the whole review\n",
    "sent_df[sent_df['sentiment_value']>=0].head() "
   ]
  },
  {
   "cell_type": "code",
   "execution_count": 43,
   "id": "74a614f1",
   "metadata": {
    "ExecuteTime": {
     "end_time": "2022-10-07T11:27:23.859400Z",
     "start_time": "2022-10-07T11:27:23.836426Z"
    }
   },
   "outputs": [
    {
     "data": {
      "text/html": [
       "<div>\n",
       "<style scoped>\n",
       "    .dataframe tbody tr th:only-of-type {\n",
       "        vertical-align: middle;\n",
       "    }\n",
       "\n",
       "    .dataframe tbody tr th {\n",
       "        vertical-align: top;\n",
       "    }\n",
       "\n",
       "    .dataframe thead th {\n",
       "        text-align: right;\n",
       "    }\n",
       "</style>\n",
       "<table border=\"1\" class=\"dataframe\">\n",
       "  <thead>\n",
       "    <tr style=\"text-align: right;\">\n",
       "      <th></th>\n",
       "      <th>sentence</th>\n",
       "      <th>sentiment_value</th>\n",
       "      <th>word_count</th>\n",
       "    </tr>\n",
       "  </thead>\n",
       "  <tbody>\n",
       "    <tr>\n",
       "      <th>18</th>\n",
       "      <td>Worth buying.nice comfort Less space in the ba...</td>\n",
       "      <td>12</td>\n",
       "      <td>33</td>\n",
       "    </tr>\n",
       "  </tbody>\n",
       "</table>\n",
       "</div>"
      ],
      "text/plain": [
       "                                             sentence  sentiment_value  \\\n",
       "18  Worth buying.nice comfort Less space in the ba...               12   \n",
       "\n",
       "    word_count  \n",
       "18          33  "
      ]
     },
     "execution_count": 43,
     "metadata": {},
     "output_type": "execute_result"
    }
   ],
   "source": [
    "sent_df[sent_df['sentiment_value']>=10].head() "
   ]
  },
  {
   "cell_type": "code",
   "execution_count": 44,
   "id": "c51ecd1d",
   "metadata": {
    "ExecuteTime": {
     "end_time": "2022-10-07T11:28:02.954563Z",
     "start_time": "2022-10-07T11:28:02.944590Z"
    }
   },
   "outputs": [],
   "source": [
    "sent_df['index']=range(0,len(sent_df)) "
   ]
  },
  {
   "cell_type": "code",
   "execution_count": 45,
   "id": "ceabb8f0",
   "metadata": {
    "ExecuteTime": {
     "end_time": "2022-10-07T11:28:10.934521Z",
     "start_time": "2022-10-07T11:28:10.906628Z"
    }
   },
   "outputs": [
    {
     "data": {
      "text/html": [
       "<div>\n",
       "<style scoped>\n",
       "    .dataframe tbody tr th:only-of-type {\n",
       "        vertical-align: middle;\n",
       "    }\n",
       "\n",
       "    .dataframe tbody tr th {\n",
       "        vertical-align: top;\n",
       "    }\n",
       "\n",
       "    .dataframe thead th {\n",
       "        text-align: right;\n",
       "    }\n",
       "</style>\n",
       "<table border=\"1\" class=\"dataframe\">\n",
       "  <thead>\n",
       "    <tr style=\"text-align: right;\">\n",
       "      <th></th>\n",
       "      <th>sentence</th>\n",
       "      <th>sentiment_value</th>\n",
       "      <th>word_count</th>\n",
       "      <th>index</th>\n",
       "    </tr>\n",
       "  </thead>\n",
       "  <tbody>\n",
       "    <tr>\n",
       "      <th>0</th>\n",
       "      <td>Less space in the bag and only one compartment...</td>\n",
       "      <td>8</td>\n",
       "      <td>30</td>\n",
       "      <td>0</td>\n",
       "    </tr>\n",
       "    <tr>\n",
       "      <th>1</th>\n",
       "      <td>Thank you Amazon🙏.</td>\n",
       "      <td>2</td>\n",
       "      <td>3</td>\n",
       "      <td>1</td>\n",
       "    </tr>\n",
       "    <tr>\n",
       "      <th>2</th>\n",
       "      <td>Nice bag, fabric seems good but not Very Speci...</td>\n",
       "      <td>3</td>\n",
       "      <td>27</td>\n",
       "      <td>2</td>\n",
       "    </tr>\n",
       "    <tr>\n",
       "      <th>3</th>\n",
       "      <td>Quality product and spacious for solo short tr...</td>\n",
       "      <td>0</td>\n",
       "      <td>8</td>\n",
       "      <td>3</td>\n",
       "    </tr>\n",
       "    <tr>\n",
       "      <th>4</th>\n",
       "      <td>The quality of bag is good.</td>\n",
       "      <td>3</td>\n",
       "      <td>6</td>\n",
       "      <td>4</td>\n",
       "    </tr>\n",
       "    <tr>\n",
       "      <th>5</th>\n",
       "      <td>It has too money pockets and 1 for laptop sleeve.</td>\n",
       "      <td>0</td>\n",
       "      <td>10</td>\n",
       "      <td>5</td>\n",
       "    </tr>\n",
       "    <tr>\n",
       "      <th>6</th>\n",
       "      <td>It also provides rain cover at bottom pocket.</td>\n",
       "      <td>0</td>\n",
       "      <td>8</td>\n",
       "      <td>6</td>\n",
       "    </tr>\n",
       "    <tr>\n",
       "      <th>7</th>\n",
       "      <td>Zipper are of good quality but it does not fee...</td>\n",
       "      <td>5</td>\n",
       "      <td>18</td>\n",
       "      <td>7</td>\n",
       "    </tr>\n",
       "    <tr>\n",
       "      <th>8</th>\n",
       "      <td>They feel wide to me and not long enough to co...</td>\n",
       "      <td>0</td>\n",
       "      <td>13</td>\n",
       "      <td>8</td>\n",
       "    </tr>\n",
       "    <tr>\n",
       "      <th>9</th>\n",
       "      <td>My height is 5'10\" and I like to hang my bag a...</td>\n",
       "      <td>2</td>\n",
       "      <td>14</td>\n",
       "      <td>9</td>\n",
       "    </tr>\n",
       "    <tr>\n",
       "      <th>10</th>\n",
       "      <td>This bag only reaches just below my waist.At t...</td>\n",
       "      <td>5</td>\n",
       "      <td>16</td>\n",
       "      <td>10</td>\n",
       "    </tr>\n",
       "    <tr>\n",
       "      <th>11</th>\n",
       "      <td>Perfect for carrying laptop.</td>\n",
       "      <td>3</td>\n",
       "      <td>4</td>\n",
       "      <td>11</td>\n",
       "    </tr>\n",
       "    <tr>\n",
       "      <th>12</th>\n",
       "      <td>Extra cushion has been provided at bottom.</td>\n",
       "      <td>0</td>\n",
       "      <td>7</td>\n",
       "      <td>12</td>\n",
       "    </tr>\n",
       "    <tr>\n",
       "      <th>13</th>\n",
       "      <td>Zipper quality is also awesome.</td>\n",
       "      <td>4</td>\n",
       "      <td>5</td>\n",
       "      <td>13</td>\n",
       "    </tr>\n",
       "    <tr>\n",
       "      <th>14</th>\n",
       "      <td>Only problem is rain cover is not completely a...</td>\n",
       "      <td>-1</td>\n",
       "      <td>16</td>\n",
       "      <td>14</td>\n",
       "    </tr>\n",
       "    <tr>\n",
       "      <th>15</th>\n",
       "      <td>Excellent product Satisfied..best at this pric...</td>\n",
       "      <td>8</td>\n",
       "      <td>40</td>\n",
       "      <td>15</td>\n",
       "    </tr>\n",
       "    <tr>\n",
       "      <th>16</th>\n",
       "      <td>Thanks to Martucci I could find it all in one ...</td>\n",
       "      <td>4</td>\n",
       "      <td>25</td>\n",
       "      <td>16</td>\n",
       "    </tr>\n",
       "    <tr>\n",
       "      <th>17</th>\n",
       "      <td>Thank you amazon as well as martucci for bring...</td>\n",
       "      <td>2</td>\n",
       "      <td>14</td>\n",
       "      <td>17</td>\n",
       "    </tr>\n",
       "    <tr>\n",
       "      <th>18</th>\n",
       "      <td>Worth buying.nice comfort Less space in the ba...</td>\n",
       "      <td>12</td>\n",
       "      <td>33</td>\n",
       "      <td>18</td>\n",
       "    </tr>\n",
       "    <tr>\n",
       "      <th>19</th>\n",
       "      <td>Thank you Amazon🙏.</td>\n",
       "      <td>2</td>\n",
       "      <td>3</td>\n",
       "      <td>19</td>\n",
       "    </tr>\n",
       "    <tr>\n",
       "      <th>20</th>\n",
       "      <td>Nice bag, fabric seems good but not Very Speci...</td>\n",
       "      <td>3</td>\n",
       "      <td>27</td>\n",
       "      <td>20</td>\n",
       "    </tr>\n",
       "    <tr>\n",
       "      <th>21</th>\n",
       "      <td>Quality product and spacious for solo short tr...</td>\n",
       "      <td>0</td>\n",
       "      <td>8</td>\n",
       "      <td>21</td>\n",
       "    </tr>\n",
       "    <tr>\n",
       "      <th>22</th>\n",
       "      <td>The quality of bag is good.</td>\n",
       "      <td>3</td>\n",
       "      <td>6</td>\n",
       "      <td>22</td>\n",
       "    </tr>\n",
       "    <tr>\n",
       "      <th>23</th>\n",
       "      <td>It has too money pockets and 1 for laptop sleeve.</td>\n",
       "      <td>0</td>\n",
       "      <td>10</td>\n",
       "      <td>23</td>\n",
       "    </tr>\n",
       "    <tr>\n",
       "      <th>24</th>\n",
       "      <td>It also provides rain cover at bottom pocket.</td>\n",
       "      <td>0</td>\n",
       "      <td>8</td>\n",
       "      <td>24</td>\n",
       "    </tr>\n",
       "    <tr>\n",
       "      <th>25</th>\n",
       "      <td>Zipper are of good quality but it does not fee...</td>\n",
       "      <td>5</td>\n",
       "      <td>18</td>\n",
       "      <td>25</td>\n",
       "    </tr>\n",
       "    <tr>\n",
       "      <th>26</th>\n",
       "      <td>They feel wide to me and not long enough to co...</td>\n",
       "      <td>0</td>\n",
       "      <td>13</td>\n",
       "      <td>26</td>\n",
       "    </tr>\n",
       "    <tr>\n",
       "      <th>27</th>\n",
       "      <td>My height is 5'10\" and I like to hang my bag a...</td>\n",
       "      <td>2</td>\n",
       "      <td>14</td>\n",
       "      <td>27</td>\n",
       "    </tr>\n",
       "    <tr>\n",
       "      <th>28</th>\n",
       "      <td>This bag only reaches just below my waist.At t...</td>\n",
       "      <td>5</td>\n",
       "      <td>16</td>\n",
       "      <td>28</td>\n",
       "    </tr>\n",
       "    <tr>\n",
       "      <th>29</th>\n",
       "      <td>Perfect for carrying laptop.</td>\n",
       "      <td>3</td>\n",
       "      <td>4</td>\n",
       "      <td>29</td>\n",
       "    </tr>\n",
       "    <tr>\n",
       "      <th>30</th>\n",
       "      <td>Extra cushion has been provided at bottom.</td>\n",
       "      <td>0</td>\n",
       "      <td>7</td>\n",
       "      <td>30</td>\n",
       "    </tr>\n",
       "    <tr>\n",
       "      <th>31</th>\n",
       "      <td>Zipper quality is also awesome.</td>\n",
       "      <td>4</td>\n",
       "      <td>5</td>\n",
       "      <td>31</td>\n",
       "    </tr>\n",
       "    <tr>\n",
       "      <th>32</th>\n",
       "      <td>Only problem is rain cover is not completely a...</td>\n",
       "      <td>-1</td>\n",
       "      <td>16</td>\n",
       "      <td>32</td>\n",
       "    </tr>\n",
       "    <tr>\n",
       "      <th>33</th>\n",
       "      <td>Excellent product Satisfied..best at this pric...</td>\n",
       "      <td>8</td>\n",
       "      <td>40</td>\n",
       "      <td>33</td>\n",
       "    </tr>\n",
       "    <tr>\n",
       "      <th>34</th>\n",
       "      <td>Thanks to Martucci I could find it all in one ...</td>\n",
       "      <td>4</td>\n",
       "      <td>25</td>\n",
       "      <td>34</td>\n",
       "    </tr>\n",
       "    <tr>\n",
       "      <th>35</th>\n",
       "      <td>Thank you amazon as well as martucci for bring...</td>\n",
       "      <td>2</td>\n",
       "      <td>14</td>\n",
       "      <td>35</td>\n",
       "    </tr>\n",
       "    <tr>\n",
       "      <th>36</th>\n",
       "      <td>Worth buying.nice comfort</td>\n",
       "      <td>4</td>\n",
       "      <td>3</td>\n",
       "      <td>36</td>\n",
       "    </tr>\n",
       "  </tbody>\n",
       "</table>\n",
       "</div>"
      ],
      "text/plain": [
       "                                             sentence  sentiment_value  \\\n",
       "0   Less space in the bag and only one compartment...                8   \n",
       "1                                  Thank you Amazon🙏.                2   \n",
       "2   Nice bag, fabric seems good but not Very Speci...                3   \n",
       "3   Quality product and spacious for solo short tr...                0   \n",
       "4                         The quality of bag is good.                3   \n",
       "5   It has too money pockets and 1 for laptop sleeve.                0   \n",
       "6       It also provides rain cover at bottom pocket.                0   \n",
       "7   Zipper are of good quality but it does not fee...                5   \n",
       "8   They feel wide to me and not long enough to co...                0   \n",
       "9   My height is 5'10\" and I like to hang my bag a...                2   \n",
       "10  This bag only reaches just below my waist.At t...                5   \n",
       "11                       Perfect for carrying laptop.                3   \n",
       "12         Extra cushion has been provided at bottom.                0   \n",
       "13                    Zipper quality is also awesome.                4   \n",
       "14  Only problem is rain cover is not completely a...               -1   \n",
       "15  Excellent product Satisfied..best at this pric...                8   \n",
       "16  Thanks to Martucci I could find it all in one ...                4   \n",
       "17  Thank you amazon as well as martucci for bring...                2   \n",
       "18  Worth buying.nice comfort Less space in the ba...               12   \n",
       "19                                 Thank you Amazon🙏.                2   \n",
       "20  Nice bag, fabric seems good but not Very Speci...                3   \n",
       "21  Quality product and spacious for solo short tr...                0   \n",
       "22                        The quality of bag is good.                3   \n",
       "23  It has too money pockets and 1 for laptop sleeve.                0   \n",
       "24      It also provides rain cover at bottom pocket.                0   \n",
       "25  Zipper are of good quality but it does not fee...                5   \n",
       "26  They feel wide to me and not long enough to co...                0   \n",
       "27  My height is 5'10\" and I like to hang my bag a...                2   \n",
       "28  This bag only reaches just below my waist.At t...                5   \n",
       "29                       Perfect for carrying laptop.                3   \n",
       "30         Extra cushion has been provided at bottom.                0   \n",
       "31                    Zipper quality is also awesome.                4   \n",
       "32  Only problem is rain cover is not completely a...               -1   \n",
       "33  Excellent product Satisfied..best at this pric...                8   \n",
       "34  Thanks to Martucci I could find it all in one ...                4   \n",
       "35  Thank you amazon as well as martucci for bring...                2   \n",
       "36                          Worth buying.nice comfort                4   \n",
       "\n",
       "    word_count  index  \n",
       "0           30      0  \n",
       "1            3      1  \n",
       "2           27      2  \n",
       "3            8      3  \n",
       "4            6      4  \n",
       "5           10      5  \n",
       "6            8      6  \n",
       "7           18      7  \n",
       "8           13      8  \n",
       "9           14      9  \n",
       "10          16     10  \n",
       "11           4     11  \n",
       "12           7     12  \n",
       "13           5     13  \n",
       "14          16     14  \n",
       "15          40     15  \n",
       "16          25     16  \n",
       "17          14     17  \n",
       "18          33     18  \n",
       "19           3     19  \n",
       "20          27     20  \n",
       "21           8     21  \n",
       "22           6     22  \n",
       "23          10     23  \n",
       "24           8     24  \n",
       "25          18     25  \n",
       "26          13     26  \n",
       "27          14     27  \n",
       "28          16     28  \n",
       "29           4     29  \n",
       "30           7     30  \n",
       "31           5     31  \n",
       "32          16     32  \n",
       "33          40     33  \n",
       "34          25     34  \n",
       "35          14     35  \n",
       "36           3     36  "
      ]
     },
     "execution_count": 45,
     "metadata": {},
     "output_type": "execute_result"
    }
   ],
   "source": [
    "sent_df"
   ]
  },
  {
   "cell_type": "code",
   "execution_count": 46,
   "id": "aa04b853",
   "metadata": {
    "ExecuteTime": {
     "end_time": "2022-10-07T11:28:40.170891Z",
     "start_time": "2022-10-07T11:28:35.146734Z"
    }
   },
   "outputs": [
    {
     "name": "stderr",
     "output_type": "stream",
     "text": [
      "C:\\Users\\NALLI NISHETHA\\anaconda3\\lib\\site-packages\\seaborn\\distributions.py:2619: FutureWarning: `distplot` is a deprecated function and will be removed in a future version. Please adapt your code to use either `displot` (a figure-level function with similar flexibility) or `histplot` (an axes-level function for histograms).\n",
      "  warnings.warn(msg, FutureWarning)\n"
     ]
    },
    {
     "data": {
      "text/plain": [
       "<AxesSubplot:xlabel='sentiment_value', ylabel='Density'>"
      ]
     },
     "execution_count": 46,
     "metadata": {},
     "output_type": "execute_result"
    },
    {
     "data": {
      "image/png": "[encoded data removed]",
      "text/plain": [
       "<Figure size 432x288 with 1 Axes>"
      ]
     },
     "metadata": {
      "needs_background": "light"
     },
     "output_type": "display_data"
    }
   ],
   "source": [
    "import seaborn as sns\n",
    "import matplotlib.pyplot as plt\n",
    "sns.distplot(sent_df['sentiment_value'])"
   ]
  },
  {
   "cell_type": "code",
   "execution_count": 47,
   "id": "07bc5d1b",
   "metadata": {
    "ExecuteTime": {
     "end_time": "2022-10-07T11:28:56.262988Z",
     "start_time": "2022-10-07T11:28:55.789365Z"
    }
   },
   "outputs": [
    {
     "data": {
      "text/plain": [
       "<AxesSubplot:xlabel='index', ylabel='sentiment_value'>"
      ]
     },
     "execution_count": 47,
     "metadata": {},
     "output_type": "execute_result"
    },
    {
     "data": {
      "image/png": "[encoded data removed]",
      "text/plain": [
       "<Figure size 1080x720 with 1 Axes>"
      ]
     },
     "metadata": {
      "needs_background": "light"
     },
     "output_type": "display_data"
    }
   ],
   "source": [
    "plt.figure(figsize=(15, 10))\n",
    "sns.lineplot(y='sentiment_value',x='index',data=sent_df) "
   ]
  },
  {
   "cell_type": "code",
   "execution_count": 48,
   "id": "33e7f681",
   "metadata": {
    "ExecuteTime": {
     "end_time": "2022-10-07T11:29:10.349312Z",
     "start_time": "2022-10-07T11:29:09.194380Z"
    }
   },
   "outputs": [
    {
     "data": {
      "text/plain": [
       "<AxesSubplot:title={'center':'Sentence sentiment value to sentence word count'}, xlabel='word_count', ylabel='sentiment_value'>"
      ]
     },
     "execution_count": 48,
     "metadata": {},
     "output_type": "execute_result"
    },
    {
     "data": {
      "image/png": "[encoded data removed]",
      "text/plain": [
       "<Figure size 576x576 with 1 Axes>"
      ]
     },
     "metadata": {
      "needs_background": "light"
     },
     "output_type": "display_data"
    }
   ],
   "source": [
    "sent_df.plot.scatter(x='word_count', y='sentiment_value', figsize=(8,8), title='Sentence sentiment value to sentence word count')"
   ]
  },
  {
   "cell_type": "code",
   "execution_count": null,
   "id": "4dd9a997",
   "metadata": {},
   "outputs": [],
   "source": []
  },
  {
   "cell_type": "code",
   "execution_count": null,
   "id": "7f2a77b4",
   "metadata": {},
   "outputs": [],
   "source": []
  },
  {
   "cell_type": "code",
   "execution_count": null,
   "id": "86b97290",
   "metadata": {},
   "outputs": [],
   "source": []
  },
  {
   "cell_type": "code",
   "execution_count": null,
   "id": "81b9dfcc",
   "metadata": {},
   "outputs": [],
   "source": []
  },
  {
   "cell_type": "code",
   "execution_count": null,
   "id": "e4202ffd",
   "metadata": {},
   "outputs": [],
   "source": []
  },
  {
   "cell_type": "code",
   "execution_count": null,
   "id": "23755d24",
   "metadata": {},
   "outputs": [],
   "source": []
  },
  {
   "cell_type": "code",
   "execution_count": null,
   "id": "e2879757",
   "metadata": {},
   "outputs": [],
   "source": []
  },
  {
   "cell_type": "code",
   "execution_count": null,
   "id": "7be59a6c",
   "metadata": {},
   "outputs": [],
   "source": []
  },
  {
   "cell_type": "code",
   "execution_count": null,
   "id": "f4471dcd",
   "metadata": {},
   "outputs": [],
   "source": []
  },
  {
   "cell_type": "code",
   "execution_count": null,
   "id": "bd9f91c1",
   "metadata": {},
   "outputs": [],
   "source": []
  },
  {
   "cell_type": "code",
   "execution_count": null,
   "id": "f4fc945f",
   "metadata": {},
   "outputs": [],
   "source": []
  },
  {
   "cell_type": "code",
   "execution_count": null,
   "id": "287aa4ba",
   "metadata": {},
   "outputs": [],
   "source": []
  },
  {
   "cell_type": "code",
   "execution_count": null,
   "id": "e64a0c4b",
   "metadata": {},
   "outputs": [],
   "source": []
  },
  {
   "cell_type": "code",
   "execution_count": null,
   "id": "b54548f2",
   "metadata": {},
   "outputs": [],
   "source": []
  }
 ],
 "metadata": {
  "kernelspec": {
   "display_name": "Python 3 (ipykernel)",
   "language": "python",
   "name": "python3"
  },
  "language_info": {
   "codemirror_mode": {
    "name": "ipython",
    "version": 3
   },
   "file_extension": ".py",
   "mimetype": "text/x-python",
   "name": "python",
   "nbconvert_exporter": "python",
   "pygments_lexer": "ipython3",
   "version": "3.9.12"
  }
 },
 "nbformat": 4,
 "nbformat_minor": 5
}
