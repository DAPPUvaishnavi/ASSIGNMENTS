{
 "cells": [
  {
   "cell_type": "code",
   "execution_count": 1,
   "id": "5c8dba1f",
   "metadata": {
    "ExecuteTime": {
     "end_time": "2022-11-07T16:48:42.728812Z",
     "start_time": "2022-11-07T16:48:42.278591Z"
    }
   },
   "outputs": [],
   "source": [
    "\n",
    "from scipy import stats\n",
    "from scipy.stats import norm\n"
   ]
  },
  {
   "cell_type": "code",
   "execution_count": null,
   "id": "4b699543",
   "metadata": {},
   "outputs": [],
   "source": [
    "# Assume Null Hypothesis is: Ho = Avg life of Bulb >= 260 days\n",
    "# Alternate Hypothesis is: Ha = Avg life of Bulb < 260 days\n"
   ]
  },
  {
   "cell_type": "code",
   "execution_count": 3,
   "id": "a36497dd",
   "metadata": {
    "ExecuteTime": {
     "end_time": "2022-11-07T16:49:20.877541Z",
     "start_time": "2022-11-07T16:49:20.859589Z"
    }
   },
   "outputs": [
    {
     "data": {
      "text/plain": [
       "-0.4714045207910317"
      ]
     },
     "execution_count": 3,
     "metadata": {},
     "output_type": "execute_result"
    }
   ],
   "source": [
    "# find t-scores at x=260; t=(s_mean-P_mean)/(s_SD/sqrt(n))\n",
    "t=(260-270)/(90/18**0.5)\n",
    "t"
   ]
  },
  {
   "cell_type": "code",
   "execution_count": null,
   "id": "a1073523",
   "metadata": {},
   "outputs": [],
   "source": [
    "# Find P(X>=260) for null hypothesis\n"
   ]
  },
  {
   "cell_type": "code",
   "execution_count": 4,
   "id": "9a5c96a8",
   "metadata": {
    "ExecuteTime": {
     "end_time": "2022-11-07T16:49:46.518854Z",
     "start_time": "2022-11-07T16:49:46.450062Z"
    }
   },
   "outputs": [
    {
     "data": {
      "text/plain": [
       "0.32167411684460556"
      ]
     },
     "execution_count": 4,
     "metadata": {},
     "output_type": "execute_result"
    }
   ],
   "source": [
    "# p_value=1-stats.t.cdf(abs(t_scores),df=n-1)... Using cdf function\n",
    "p_value=1-stats.t.cdf(abs(-0.4714),df=17)\n",
    "p_value\n"
   ]
  },
  {
   "cell_type": "code",
   "execution_count": 6,
   "id": "f5b2d326",
   "metadata": {
    "ExecuteTime": {
     "end_time": "2022-11-07T16:50:20.027647Z",
     "start_time": "2022-11-07T16:50:20.009986Z"
    }
   },
   "outputs": [
    {
     "data": {
      "text/plain": [
       "0.32167411684460556"
      ]
     },
     "execution_count": 6,
     "metadata": {},
     "output_type": "execute_result"
    }
   ],
   "source": [
    "#  OR p_value=stats.t.sf(abs(t_score),df=n-1)... Using sf function\n",
    "p_value=stats.t.sf(abs(-0.4714),df=17)\n",
    "p_value"
   ]
  }
 ],
 "metadata": {
  "kernelspec": {
   "display_name": "Python 3 (ipykernel)",
   "language": "python",
   "name": "python3"
  },
  "language_info": {
   "codemirror_mode": {
    "name": "ipython",
    "version": 3
   },
   "file_extension": ".py",
   "mimetype": "text/x-python",
   "name": "python",
   "nbconvert_exporter": "python",
   "pygments_lexer": "ipython3",
   "version": "3.9.12"
  }
 },
 "nbformat": 4,
 "nbformat_minor": 5
}
