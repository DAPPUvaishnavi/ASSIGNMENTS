{
 "cells": [
  {
   "cell_type": "code",
   "execution_count": 1,
   "id": "51e7528e",
   "metadata": {
    "ExecuteTime": {
     "end_time": "2022-11-07T16:46:28.388538Z",
     "start_time": "2022-11-07T16:46:27.938334Z"
    }
   },
   "outputs": [],
   "source": [
    "from scipy import stats\n",
    "from scipy.stats import norm\n"
   ]
  },
  {
   "cell_type": "code",
   "execution_count": 2,
   "id": "18e5e262",
   "metadata": {
    "ExecuteTime": {
     "end_time": "2022-11-07T16:46:50.487005Z",
     "start_time": "2022-11-07T16:46:50.428244Z"
    }
   },
   "outputs": [
    {
     "data": {
      "text/plain": [
       "2.0638985616280205"
      ]
     },
     "execution_count": 2,
     "metadata": {},
     "output_type": "execute_result"
    }
   ],
   "source": [
    "# t scores of 95% confidence interval for sample size of 25\n",
    "stats.t.ppf(0.975,24)  # df = n-1 = 24\n"
   ]
  },
  {
   "cell_type": "code",
   "execution_count": 3,
   "id": "4625b01f",
   "metadata": {
    "ExecuteTime": {
     "end_time": "2022-11-07T16:47:07.466967Z",
     "start_time": "2022-11-07T16:47:07.442797Z"
    }
   },
   "outputs": [
    {
     "data": {
      "text/plain": [
       "2.1715446760080677"
      ]
     },
     "execution_count": 3,
     "metadata": {},
     "output_type": "execute_result"
    }
   ],
   "source": [
    "# t scores of 96% confidence interval for sample size of 25\n",
    "stats.t.ppf(0.98,24)\n"
   ]
  },
  {
   "cell_type": "code",
   "execution_count": 4,
   "id": "16d15b7b",
   "metadata": {
    "ExecuteTime": {
     "end_time": "2022-11-07T16:47:25.600151Z",
     "start_time": "2022-11-07T16:47:25.584868Z"
    }
   },
   "outputs": [
    {
     "data": {
      "text/plain": [
       "2.796939504772804"
      ]
     },
     "execution_count": 4,
     "metadata": {},
     "output_type": "execute_result"
    }
   ],
   "source": [
    "# t scores of 99% confidence interval for sample size of 25\n",
    "stats.t.ppf(0.995,24)\n"
   ]
  }
 ],
 "metadata": {
  "kernelspec": {
   "display_name": "Python 3 (ipykernel)",
   "language": "python",
   "name": "python3"
  },
  "language_info": {
   "codemirror_mode": {
    "name": "ipython",
    "version": 3
   },
   "file_extension": ".py",
   "mimetype": "text/x-python",
   "name": "python",
   "nbconvert_exporter": "python",
   "pygments_lexer": "ipython3",
   "version": "3.9.12"
  }
 },
 "nbformat": 4,
 "nbformat_minor": 5
}
