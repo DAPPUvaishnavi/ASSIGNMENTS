{
 "cells": [
  {
   "cell_type": "code",
   "execution_count": 6,
   "id": "5921683a",
   "metadata": {
    "ExecuteTime": {
     "end_time": "2022-11-07T15:42:34.814379Z",
     "start_time": "2022-11-07T15:42:34.794629Z"
    }
   },
   "outputs": [],
   "source": [
    "import pandas as pd "
   ]
  },
  {
   "cell_type": "code",
   "execution_count": 7,
   "id": "accf2521",
   "metadata": {
    "ExecuteTime": {
     "end_time": "2022-11-07T15:42:36.838942Z",
     "start_time": "2022-11-07T15:42:36.817521Z"
    }
   },
   "outputs": [],
   "source": [
    "df=pd.Series([34,36,36,38,38,39,39,40,40,41,41,41,41,42,42,45,49,56])"
   ]
  },
  {
   "cell_type": "code",
   "execution_count": 9,
   "id": "80f8cb59",
   "metadata": {
    "ExecuteTime": {
     "end_time": "2022-11-07T15:43:25.857133Z",
     "start_time": "2022-11-07T15:43:25.791684Z"
    }
   },
   "outputs": [
    {
     "data": {
      "text/plain": [
       "count    18.000000\n",
       "mean     41.000000\n",
       "std       5.052664\n",
       "min      34.000000\n",
       "25%      38.250000\n",
       "50%      40.500000\n",
       "75%      41.750000\n",
       "max      56.000000\n",
       "dtype: float64"
      ]
     },
     "execution_count": 9,
     "metadata": {},
     "output_type": "execute_result"
    }
   ],
   "source": [
    "df.describe() "
   ]
  },
  {
   "cell_type": "code",
   "execution_count": 12,
   "id": "7f9cc67b",
   "metadata": {
    "ExecuteTime": {
     "end_time": "2022-11-07T15:44:44.924211Z",
     "start_time": "2022-11-07T15:44:44.909035Z"
    }
   },
   "outputs": [
    {
     "data": {
      "text/plain": [
       "41.0"
      ]
     },
     "execution_count": 12,
     "metadata": {},
     "output_type": "execute_result"
    }
   ],
   "source": [
    "import warnings\n",
    "warnings.filterwarnings ('ignore')\n",
    "df.mean() "
   ]
  },
  {
   "cell_type": "code",
   "execution_count": 18,
   "id": "dff86ff7",
   "metadata": {
    "ExecuteTime": {
     "end_time": "2022-11-07T15:46:28.711864Z",
     "start_time": "2022-11-07T15:46:28.688974Z"
    }
   },
   "outputs": [
    {
     "data": {
      "text/plain": [
       "40.5"
      ]
     },
     "execution_count": 18,
     "metadata": {},
     "output_type": "execute_result"
    }
   ],
   "source": [
    "df.median()"
   ]
  },
  {
   "cell_type": "code",
   "execution_count": 17,
   "id": "ab5ea66b",
   "metadata": {
    "ExecuteTime": {
     "end_time": "2022-11-07T15:46:26.235914Z",
     "start_time": "2022-11-07T15:46:26.213420Z"
    }
   },
   "outputs": [
    {
     "data": {
      "text/plain": [
       "25.529411764705884"
      ]
     },
     "execution_count": 17,
     "metadata": {},
     "output_type": "execute_result"
    }
   ],
   "source": [
    "df.var()"
   ]
  },
  {
   "cell_type": "code",
   "execution_count": 16,
   "id": "a5c980ff",
   "metadata": {
    "ExecuteTime": {
     "end_time": "2022-11-07T15:46:23.288972Z",
     "start_time": "2022-11-07T15:46:23.266429Z"
    }
   },
   "outputs": [
    {
     "data": {
      "text/plain": [
       "5.05266382858645"
      ]
     },
     "execution_count": 16,
     "metadata": {},
     "output_type": "execute_result"
    }
   ],
   "source": [
    "df.std()"
   ]
  }
 ],
 "metadata": {
  "kernelspec": {
   "display_name": "Python 3 (ipykernel)",
   "language": "python",
   "name": "python3"
  },
  "language_info": {
   "codemirror_mode": {
    "name": "ipython",
    "version": 3
   },
   "file_extension": ".py",
   "mimetype": "text/x-python",
   "name": "python",
   "nbconvert_exporter": "python",
   "pygments_lexer": "ipython3",
   "version": "3.9.12"
  }
 },
 "nbformat": 4,
 "nbformat_minor": 5
}
