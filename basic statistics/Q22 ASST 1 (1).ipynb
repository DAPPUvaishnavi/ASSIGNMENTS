{
 "cells": [
  {
   "cell_type": "code",
   "execution_count": 1,
   "id": "2c4e5deb",
   "metadata": {
    "ExecuteTime": {
     "end_time": "2022-11-07T16:39:35.389515Z",
     "start_time": "2022-11-07T16:39:34.436858Z"
    }
   },
   "outputs": [],
   "source": [
    "from scipy import stats\n",
    "from scipy.stats import norm \n",
    "\n"
   ]
  },
  {
   "cell_type": "code",
   "execution_count": 2,
   "id": "30f9135b",
   "metadata": {
    "ExecuteTime": {
     "end_time": "2022-11-07T16:40:21.126632Z",
     "start_time": "2022-11-07T16:40:21.062845Z"
    }
   },
   "outputs": [
    {
     "data": {
      "text/plain": [
       "1.6448536269514722"
      ]
     },
     "execution_count": 2,
     "metadata": {},
     "output_type": "execute_result"
    }
   ],
   "source": [
    "# Z-score of 90% confidence interval \n",
    "stats.norm.ppf(0.95)\n"
   ]
  },
  {
   "cell_type": "code",
   "execution_count": 3,
   "id": "462a2627",
   "metadata": {
    "ExecuteTime": {
     "end_time": "2022-11-07T16:40:48.070061Z",
     "start_time": "2022-11-07T16:40:48.053623Z"
    }
   },
   "outputs": [
    {
     "data": {
      "text/plain": [
       "1.8807936081512509"
      ]
     },
     "execution_count": 3,
     "metadata": {},
     "output_type": "execute_result"
    }
   ],
   "source": [
    "# Z-score of 94% confidence interval\n",
    "stats.norm.ppf(0.97)\n"
   ]
  },
  {
   "cell_type": "code",
   "execution_count": 4,
   "id": "79639a06",
   "metadata": {
    "ExecuteTime": {
     "end_time": "2022-11-07T16:41:06.876304Z",
     "start_time": "2022-11-07T16:41:06.860984Z"
    }
   },
   "outputs": [
    {
     "data": {
      "text/plain": [
       "0.8416212335729143"
      ]
     },
     "execution_count": 4,
     "metadata": {},
     "output_type": "execute_result"
    }
   ],
   "source": [
    "# Z-score of 60% confidence interval\n",
    "stats.norm.ppf(0.8)\n"
   ]
  },
  {
   "cell_type": "code",
   "execution_count": null,
   "id": "d4f35537",
   "metadata": {},
   "outputs": [],
   "source": []
  }
 ],
 "metadata": {
  "kernelspec": {
   "display_name": "Python 3 (ipykernel)",
   "language": "python",
   "name": "python3"
  },
  "language_info": {
   "codemirror_mode": {
    "name": "ipython",
    "version": 3
   },
   "file_extension": ".py",
   "mimetype": "text/x-python",
   "name": "python",
   "nbconvert_exporter": "python",
   "pygments_lexer": "ipython3",
   "version": "3.9.12"
  }
 },
 "nbformat": 4,
 "nbformat_minor": 5
}
